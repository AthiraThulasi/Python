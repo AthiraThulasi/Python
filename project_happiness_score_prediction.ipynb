{
  "cells": [
    {
      "cell_type": "markdown",
      "source": [
        "# HAPPINESS SCORE PREDICTION"
      ],
      "metadata": {
        "id": "PsG6lmeihTsC"
      }
    },
    {
      "cell_type": "markdown",
      "source": [
        "**INTRODUCTION**"
      ],
      "metadata": {
        "id": "wlmUA5o7kSGT"
      }
    },
    {
      "cell_type": "markdown",
      "metadata": {
        "id": "po9O7ms9K8D4"
      },
      "source": [
        "Happiness is very important part of an individual's life because it can improve ones lives in many ways and contribute to a more positive and thriving society. How happy are people today? What are the factors that contribute to the happiness of individuals in a country?  How satisfied are people in different societies? And how do our living conditions affect all of this?Let's see whether we can find answer to some of the questions.\n",
        "\n",
        "This Project aims to find the factors that contribute to happiness score and predict happiness score of individuals in different countries using Linear Regression. The project uses data from the World Happiness Report which includes various predictors such as GDP, social support, Family, perception of corruption, freedom to make life choices and Trust in govt corruption. The Project utilizes Happiness data set from 2018 to 2021 which includes the Happiness Scores of different countries across the globe. "
      ]
    },
    {
      "cell_type": "markdown",
      "metadata": {
        "id": "fqXqzPlZK8D6"
      },
      "source": [
        "**DATA SET SOURCE**"
      ]
    },
    {
      "cell_type": "markdown",
      "metadata": {
        "id": "MrU-vt0DeUpf"
      },
      "source": [
        "Happiness Score data set uses data from the Gallup World Poll which happens every year. The Gallup World Poll consists of more than 100 global questions as well as region-specific items.\n",
        "\n",
        "https://worldhappiness.report/ed/2018/ \\\n",
        "https://worldhappiness.report/ed/2019/ \\\n",
        "https://worldhappiness.report/ed/2020/ \\\n",
        "https://worldhappiness.report/ed/2021/ \\"
      ]
    },
    {
      "cell_type": "markdown",
      "metadata": {
        "id": "PqQNIxS9K8D7"
      },
      "source": [
        "**DATA SET**"
      ]
    },
    {
      "cell_type": "markdown",
      "source": [
        "Happiness Score data set includes different factors that contribute to the happiness score of an individual. \n",
        "\n",
        "**Total Number of Observations: 614**\n",
        "\n",
        "**Number of Predictors/Features : 6**\n",
        "\n",
        "**Response Variable : Happiness Score**\n",
        "\n",
        "Features are as follows:\n",
        "\n",
        "1.   GDP per Capita \n",
        "2.   Family\n",
        "3.   Health Life Expectancy\n",
        "4.   Freedom\n",
        "5.   Generosity\n",
        "6.   Trust Government Corruption\n",
        "7.   Happiness Score"
      ],
      "metadata": {
        "id": "-2X_612JMb3w"
      }
    },
    {
      "cell_type": "markdown",
      "metadata": {
        "id": "hXUgAkmKK8D_"
      },
      "source": [
        "**OBJECTIVE**"
      ]
    },
    {
      "cell_type": "markdown",
      "metadata": {
        "id": "s4fOSZUcK8EA"
      },
      "source": [
        "Objective is to perform different analysis to understand about the dataset, clean the data set and build a model to make predictions on happiness score.\n",
        "\n",
        "\n",
        "**1. Missing values - Is there missing values in data set?**\n",
        "\n",
        "Yes, Happiness score dataset contains missing values. **Mean imputation** is done to to handle missing values in the data set by replacing missing values with the mean of the non-missing values of the same feature.\n",
        "\n",
        "**2. Outliers - Any outliers present? How to remove those?**\n",
        "\n",
        "**BOXPLOT** is used to identify outliers.Find z-scores for each data point. Any rows with z-scores above a certain threshold are removed.The resulting DataFrame contains only the non-outlier rows.\n",
        "\n",
        "**3. Is any scaling required for the features in dataset?**\n",
        "\n",
        "The dataset was found to have features within a similar range and therefore **scaling is not necessary**.Scaling is important when features have vastly different ranges, but this was not the case in the current dataset.\n",
        "\n",
        "**4. Is the data set require any record linkage to link matching entities?**\n",
        "\n",
        "Since the dataset contains **only numerical values**, there are no text or categorical values that need to be matched or linked to identify the same entities across different records.\n",
        "\n",
        "**5. Relevance of using Jaccard Metric to compare the similarity of column names between data sets?**\n",
        "\n",
        "The Jaccard metric is used to measure the similarity between two sets of data. Since the **column names**representing same features **have different names** across data sets, jaccard metric is used for comparison to determine how similar or dissimilar the columns are between the two datasets.\n",
        "\n",
        "**6. Prediction - Predicting happiness score using Linear Regression model with all features**\n",
        "\n",
        "**7. Tried a different model with less feature variables**\n",
        "\n",
        "**8. Determined the coefficients of model to see which all factors have highest contribution to happiness score**\n",
        "\n",
        "**9. Find the Adj Rsquare and MSE to compare model perfomance**\n",
        "\n",
        "**10. Tried MLP and KNN regression for score prediction.**"
      ]
    },
    {
      "cell_type": "markdown",
      "source": [
        "**IMPORT LIBRARIES**"
      ],
      "metadata": {
        "id": "dIUJDvJkNUwh"
      }
    },
    {
      "cell_type": "code",
      "execution_count": 1,
      "metadata": {
        "id": "tMM9GKbONP5m"
      },
      "outputs": [],
      "source": [
        "import pandas as pd #For data frame\n",
        "import numpy as np #For Numerical Calculation\n",
        "import math # for mathematical operations\n",
        "import matplotlib.pyplot as plt #For plots\n",
        "import seaborn as sns #For plots\n",
        "from termcolor import colored #print colored text"
      ]
    },
    {
      "cell_type": "code",
      "source": [
        "plt.style.use('ggplot')"
      ],
      "metadata": {
        "id": "JsPFZC9fB_ry"
      },
      "execution_count": 2,
      "outputs": []
    },
    {
      "cell_type": "markdown",
      "source": [
        "**READING DATASET USING PANDAS**"
      ],
      "metadata": {
        "id": "hsSEpK40NruO"
      }
    },
    {
      "cell_type": "code",
      "execution_count": 3,
      "metadata": {
        "id": "Sx3CszVYnCt9"
      },
      "outputs": [],
      "source": [
        "df_2018 = pd.read_csv('2018.csv')\n",
        "df_2019 = pd.read_csv('2019.csv')\n",
        "df_2020 = pd.read_csv('2020.csv')\n",
        "df_2021 = pd.read_csv('2021.csv')"
      ]
    },
    {
      "cell_type": "markdown",
      "source": [
        "**CREATING DATAFRAME**\n",
        "\n",
        "Adding a new column called YEARS to distingiush the years in which each record belongs."
      ],
      "metadata": {
        "id": "3Nd0V26NBilO"
      }
    },
    {
      "cell_type": "code",
      "source": [
        "years = ['2018', '2019', '2020', '2021']\n",
        "dfs = [df_2018, df_2019, df_2020, df_2021]\n",
        "for i in range(0,4):\n",
        "    dfs[i]['year'] = years[i] # df_2019['year'] = '2019' "
      ],
      "metadata": {
        "id": "dpVRHOsgCEHt"
      },
      "execution_count": 4,
      "outputs": []
    },
    {
      "cell_type": "markdown",
      "source": [
        "**DATA PREPARATION**"
      ],
      "metadata": {
        "id": "nlw_jWKiCVcW"
      }
    },
    {
      "cell_type": "markdown",
      "metadata": {
        "id": "MeUPqNiLniSh"
      },
      "source": [
        "**JACCARD METRIC**"
      ]
    },
    {
      "cell_type": "markdown",
      "source": [
        "**Why Jaccard Metric is used to compare column names in Happiness score datasets ?**\n",
        "\n",
        "The datasets from 2018 to 2021 has different column names in different years. So Jaccard metric is used to measure the similarity between two texts based on the overlap of their constituent words or characters."
      ],
      "metadata": {
        "id": "aEmsUpUHRqzz"
      }
    },
    {
      "cell_type": "code",
      "execution_count": 5,
      "metadata": {
        "id": "dMcvHvnsK8EQ"
      },
      "outputs": [],
      "source": [
        "# Method to find the jaccard metric\n",
        "def jaccard(s1, s2):\n",
        "    # your code here\n",
        "    s1_hash = \"#\" + s1 + \"#\"\n",
        "    s2_hash = \"#\" + s2 + \"#\"\n",
        "    s1_bigram = {s1[i:i+2] for i in range(len(s1) - 1)}\n",
        "    s2_bigram = {s2[i:i+2] for i in range(len(s2) - 1)}\n",
        "    jac_metric = len(s1_bigram.intersection(s2_bigram)) / len(s1_bigram.union(s2_bigram))\n",
        "    return jac_metric"
      ]
    },
    {
      "cell_type": "markdown",
      "source": [
        "Since there is a difference in the labels of columns we agree on a column names to which jaccard metric score is calculated."
      ],
      "metadata": {
        "id": "N6PrRE-Swvr9"
      }
    },
    {
      "cell_type": "code",
      "source": [
        "col_names = ['Rank','Country name','Score','GDP per capita','Social support','Healthy life expectancy','Freedom to make life choices','Generosity','Perceptions of corruption']\n",
        "jacc_threshold = 0.4\n",
        "dfs = [df_2018, df_2019, df_2020, df_2021]\n",
        "for icol in range(0,len(col_names)): # For each coloumn\n",
        "  for i in range(0, len(dfs)): # For each data frame\n",
        "    if jaccard(dfs[i].columns[icol], col_names[icol]) >= jacc_threshold: \n",
        "      dfs[i].rename(columns={ dfs[i].columns[icol]: col_names[icol] }, inplace = True)"
      ],
      "metadata": {
        "id": "WGRVGXtloADC"
      },
      "execution_count": 6,
      "outputs": []
    },
    {
      "cell_type": "markdown",
      "source": [
        "**MERGING DATA SETS**"
      ],
      "metadata": {
        "id": "bCFdRSVoCFcB"
      }
    },
    {
      "cell_type": "code",
      "source": [
        "df_merged=pd.concat(dfs)\n",
        "df_merged.drop(['Rank','Country name'], axis=1,inplace=True) # Removing country column"
      ],
      "metadata": {
        "id": "eV743faFCGWs"
      },
      "execution_count": 7,
      "outputs": []
    },
    {
      "cell_type": "markdown",
      "source": [
        "**SUMMARY OF DATA FRAME USING HEAD**"
      ],
      "metadata": {
        "id": "pGEQOX7EHjr5"
      }
    },
    {
      "cell_type": "code",
      "source": [
        "df_merged.head()"
      ],
      "metadata": {
        "colab": {
          "base_uri": "https://localhost:8080/",
          "height": 285
        },
        "id": "dOtcdgUsHkwH",
        "outputId": "fddb3141-e392-46e3-bc26-05cb7ceadb1a"
      },
      "execution_count": 8,
      "outputs": [
        {
          "output_type": "execute_result",
          "data": {
            "text/plain": [
              "   Score  GDP per capita  Social support  Healthy life expectancy  \\\n",
              "0  7.632           1.305           1.592                    0.874   \n",
              "1  7.594           1.456           1.582                    0.861   \n",
              "2  7.555           1.351           1.590                    0.868   \n",
              "3  7.495           1.343           1.644                    0.914   \n",
              "4  7.487           1.420           1.549                    0.927   \n",
              "\n",
              "   Freedom to make life choices  Generosity  Perceptions of corruption  year  \n",
              "0                         0.681       0.202                      0.393  2018  \n",
              "1                         0.686       0.286                      0.340  2018  \n",
              "2                         0.683       0.284                      0.408  2018  \n",
              "3                         0.677       0.353                      0.138  2018  \n",
              "4                         0.660       0.256                      0.357  2018  "
            ],
            "text/html": [
              "\n",
              "  <div id=\"df-27698842-92c3-451e-874f-8df569d389e3\">\n",
              "    <div class=\"colab-df-container\">\n",
              "      <div>\n",
              "<style scoped>\n",
              "    .dataframe tbody tr th:only-of-type {\n",
              "        vertical-align: middle;\n",
              "    }\n",
              "\n",
              "    .dataframe tbody tr th {\n",
              "        vertical-align: top;\n",
              "    }\n",
              "\n",
              "    .dataframe thead th {\n",
              "        text-align: right;\n",
              "    }\n",
              "</style>\n",
              "<table border=\"1\" class=\"dataframe\">\n",
              "  <thead>\n",
              "    <tr style=\"text-align: right;\">\n",
              "      <th></th>\n",
              "      <th>Score</th>\n",
              "      <th>GDP per capita</th>\n",
              "      <th>Social support</th>\n",
              "      <th>Healthy life expectancy</th>\n",
              "      <th>Freedom to make life choices</th>\n",
              "      <th>Generosity</th>\n",
              "      <th>Perceptions of corruption</th>\n",
              "      <th>year</th>\n",
              "    </tr>\n",
              "  </thead>\n",
              "  <tbody>\n",
              "    <tr>\n",
              "      <th>0</th>\n",
              "      <td>7.632</td>\n",
              "      <td>1.305</td>\n",
              "      <td>1.592</td>\n",
              "      <td>0.874</td>\n",
              "      <td>0.681</td>\n",
              "      <td>0.202</td>\n",
              "      <td>0.393</td>\n",
              "      <td>2018</td>\n",
              "    </tr>\n",
              "    <tr>\n",
              "      <th>1</th>\n",
              "      <td>7.594</td>\n",
              "      <td>1.456</td>\n",
              "      <td>1.582</td>\n",
              "      <td>0.861</td>\n",
              "      <td>0.686</td>\n",
              "      <td>0.286</td>\n",
              "      <td>0.340</td>\n",
              "      <td>2018</td>\n",
              "    </tr>\n",
              "    <tr>\n",
              "      <th>2</th>\n",
              "      <td>7.555</td>\n",
              "      <td>1.351</td>\n",
              "      <td>1.590</td>\n",
              "      <td>0.868</td>\n",
              "      <td>0.683</td>\n",
              "      <td>0.284</td>\n",
              "      <td>0.408</td>\n",
              "      <td>2018</td>\n",
              "    </tr>\n",
              "    <tr>\n",
              "      <th>3</th>\n",
              "      <td>7.495</td>\n",
              "      <td>1.343</td>\n",
              "      <td>1.644</td>\n",
              "      <td>0.914</td>\n",
              "      <td>0.677</td>\n",
              "      <td>0.353</td>\n",
              "      <td>0.138</td>\n",
              "      <td>2018</td>\n",
              "    </tr>\n",
              "    <tr>\n",
              "      <th>4</th>\n",
              "      <td>7.487</td>\n",
              "      <td>1.420</td>\n",
              "      <td>1.549</td>\n",
              "      <td>0.927</td>\n",
              "      <td>0.660</td>\n",
              "      <td>0.256</td>\n",
              "      <td>0.357</td>\n",
              "      <td>2018</td>\n",
              "    </tr>\n",
              "  </tbody>\n",
              "</table>\n",
              "</div>\n",
              "      <button class=\"colab-df-convert\" onclick=\"convertToInteractive('df-27698842-92c3-451e-874f-8df569d389e3')\"\n",
              "              title=\"Convert this dataframe to an interactive table.\"\n",
              "              style=\"display:none;\">\n",
              "        \n",
              "  <svg xmlns=\"http://www.w3.org/2000/svg\" height=\"24px\"viewBox=\"0 0 24 24\"\n",
              "       width=\"24px\">\n",
              "    <path d=\"M0 0h24v24H0V0z\" fill=\"none\"/>\n",
              "    <path d=\"M18.56 5.44l.94 2.06.94-2.06 2.06-.94-2.06-.94-.94-2.06-.94 2.06-2.06.94zm-11 1L8.5 8.5l.94-2.06 2.06-.94-2.06-.94L8.5 2.5l-.94 2.06-2.06.94zm10 10l.94 2.06.94-2.06 2.06-.94-2.06-.94-.94-2.06-.94 2.06-2.06.94z\"/><path d=\"M17.41 7.96l-1.37-1.37c-.4-.4-.92-.59-1.43-.59-.52 0-1.04.2-1.43.59L10.3 9.45l-7.72 7.72c-.78.78-.78 2.05 0 2.83L4 21.41c.39.39.9.59 1.41.59.51 0 1.02-.2 1.41-.59l7.78-7.78 2.81-2.81c.8-.78.8-2.07 0-2.86zM5.41 20L4 18.59l7.72-7.72 1.47 1.35L5.41 20z\"/>\n",
              "  </svg>\n",
              "      </button>\n",
              "      \n",
              "  <style>\n",
              "    .colab-df-container {\n",
              "      display:flex;\n",
              "      flex-wrap:wrap;\n",
              "      gap: 12px;\n",
              "    }\n",
              "\n",
              "    .colab-df-convert {\n",
              "      background-color: #E8F0FE;\n",
              "      border: none;\n",
              "      border-radius: 50%;\n",
              "      cursor: pointer;\n",
              "      display: none;\n",
              "      fill: #1967D2;\n",
              "      height: 32px;\n",
              "      padding: 0 0 0 0;\n",
              "      width: 32px;\n",
              "    }\n",
              "\n",
              "    .colab-df-convert:hover {\n",
              "      background-color: #E2EBFA;\n",
              "      box-shadow: 0px 1px 2px rgba(60, 64, 67, 0.3), 0px 1px 3px 1px rgba(60, 64, 67, 0.15);\n",
              "      fill: #174EA6;\n",
              "    }\n",
              "\n",
              "    [theme=dark] .colab-df-convert {\n",
              "      background-color: #3B4455;\n",
              "      fill: #D2E3FC;\n",
              "    }\n",
              "\n",
              "    [theme=dark] .colab-df-convert:hover {\n",
              "      background-color: #434B5C;\n",
              "      box-shadow: 0px 1px 3px 1px rgba(0, 0, 0, 0.15);\n",
              "      filter: drop-shadow(0px 1px 2px rgba(0, 0, 0, 0.3));\n",
              "      fill: #FFFFFF;\n",
              "    }\n",
              "  </style>\n",
              "\n",
              "      <script>\n",
              "        const buttonEl =\n",
              "          document.querySelector('#df-27698842-92c3-451e-874f-8df569d389e3 button.colab-df-convert');\n",
              "        buttonEl.style.display =\n",
              "          google.colab.kernel.accessAllowed ? 'block' : 'none';\n",
              "\n",
              "        async function convertToInteractive(key) {\n",
              "          const element = document.querySelector('#df-27698842-92c3-451e-874f-8df569d389e3');\n",
              "          const dataTable =\n",
              "            await google.colab.kernel.invokeFunction('convertToInteractive',\n",
              "                                                     [key], {});\n",
              "          if (!dataTable) return;\n",
              "\n",
              "          const docLinkHtml = 'Like what you see? Visit the ' +\n",
              "            '<a target=\"_blank\" href=https://colab.research.google.com/notebooks/data_table.ipynb>data table notebook</a>'\n",
              "            + ' to learn more about interactive tables.';\n",
              "          element.innerHTML = '';\n",
              "          dataTable['output_type'] = 'display_data';\n",
              "          await google.colab.output.renderOutput(dataTable, element);\n",
              "          const docLink = document.createElement('div');\n",
              "          docLink.innerHTML = docLinkHtml;\n",
              "          element.appendChild(docLink);\n",
              "        }\n",
              "      </script>\n",
              "    </div>\n",
              "  </div>\n",
              "  "
            ]
          },
          "metadata": {},
          "execution_count": 8
        }
      ]
    },
    {
      "cell_type": "markdown",
      "source": [
        "Find the number of observations"
      ],
      "metadata": {
        "id": "H1LDGSduTNDd"
      }
    },
    {
      "cell_type": "code",
      "source": [
        "df_merged.shape[0]"
      ],
      "metadata": {
        "colab": {
          "base_uri": "https://localhost:8080/"
        },
        "id": "W2h3AphJTSzr",
        "outputId": "26de59b0-888b-4dc2-b78d-a3d83d501f1d"
      },
      "execution_count": 54,
      "outputs": [
        {
          "output_type": "execute_result",
          "data": {
            "text/plain": [
              "614"
            ]
          },
          "metadata": {},
          "execution_count": 54
        }
      ]
    },
    {
      "cell_type": "markdown",
      "source": [
        "**DEFINING X AND Y**\n",
        "\n",
        "Features includes all predictor variables defined as \"X\"\n",
        "\n",
        "Response variable is Happiness Score defined as \"Y\""
      ],
      "metadata": {
        "id": "KhoK5brgP0Vi"
      }
    },
    {
      "cell_type": "code",
      "source": [
        "features = ['GDP per capita','Social support','Healthy life expectancy','Freedom to make life choices','Generosity','Perceptions of corruption']\n",
        "\n",
        "X = df_merged[features]\n",
        "\n",
        "y = df_merged[['Score']]"
      ],
      "metadata": {
        "id": "ewN1fC5AP1fy"
      },
      "execution_count": 9,
      "outputs": []
    },
    {
      "cell_type": "markdown",
      "source": [
        "**CHECKING FOR MISSING VALUES IN FEATURE VARIABLES**"
      ],
      "metadata": {
        "id": "zKORyllMPHtS"
      }
    },
    {
      "cell_type": "code",
      "source": [
        "print(X.isnull().sum())"
      ],
      "metadata": {
        "colab": {
          "base_uri": "https://localhost:8080/"
        },
        "id": "IrZG6bqTPIe3",
        "outputId": "e6742bd9-9838-4ab6-bf91-244982da72a5"
      },
      "execution_count": 12,
      "outputs": [
        {
          "output_type": "stream",
          "name": "stdout",
          "text": [
            "GDP per capita                  1\n",
            "Social support                  0\n",
            "Healthy life expectancy         0\n",
            "Freedom to make life choices    0\n",
            "Generosity                      0\n",
            "Perceptions of corruption       1\n",
            "dtype: int64\n"
          ]
        }
      ]
    },
    {
      "cell_type": "markdown",
      "source": [
        "**CHECKING FOR MISSING VALUES IN RESPONSE VARIABLE**"
      ],
      "metadata": {
        "id": "3KdlUwgTPKyw"
      }
    },
    {
      "cell_type": "code",
      "source": [
        "print(y.isnull().sum())"
      ],
      "metadata": {
        "colab": {
          "base_uri": "https://localhost:8080/"
        },
        "id": "IFVq1v-xPLPs",
        "outputId": "25b0af6a-71e9-47d1-8dc1-e1861a63871b"
      },
      "execution_count": 13,
      "outputs": [
        {
          "output_type": "stream",
          "name": "stdout",
          "text": [
            "Score    0\n",
            "dtype: int64\n"
          ]
        }
      ]
    },
    {
      "cell_type": "markdown",
      "source": [
        "**MEAN IMPUTATION**\n",
        "\n",
        "Mean imputation is used in data preprocessing step to replace missing values in a dataset with the mean value of that particular feature. GDP and perception of corruption has missing values."
      ],
      "metadata": {
        "id": "TyoCKQuj0iWg"
      }
    },
    {
      "cell_type": "code",
      "execution_count": 14,
      "metadata": {
        "id": "KQcSIvYTK8ET"
      },
      "outputs": [],
      "source": [
        "from sklearn.impute import SimpleImputer\n",
        "imputer = SimpleImputer(missing_values=np.nan, strategy='mean')\n",
        "imputer.fit(df_merged)\n",
        "df_merged=pd.DataFrame(data=np.array(imputer.transform(df_merged)),columns=df_merged.columns.tolist())\n",
        "X = df_merged[features]\n",
        "y = df_merged[['Score']]"
      ]
    },
    {
      "cell_type": "markdown",
      "source": [
        "**CHECKING FOR MISSING VALUES IN FEATURE VARIABLES AFTER IMPUTATION**\n",
        "\n",
        "After imputation, the missing values in GDP and perception of corruption are replaced by mean values."
      ],
      "metadata": {
        "id": "5TNy3m0PZDR6"
      }
    },
    {
      "cell_type": "code",
      "source": [
        "print(X.isnull().sum())"
      ],
      "metadata": {
        "colab": {
          "base_uri": "https://localhost:8080/"
        },
        "id": "eV-5le7JZD9q",
        "outputId": "ce5098b8-2f6b-49be-9002-0f470bc2298a"
      },
      "execution_count": 15,
      "outputs": [
        {
          "output_type": "stream",
          "name": "stdout",
          "text": [
            "GDP per capita                  0\n",
            "Social support                  0\n",
            "Healthy life expectancy         0\n",
            "Freedom to make life choices    0\n",
            "Generosity                      0\n",
            "Perceptions of corruption       0\n",
            "dtype: int64\n"
          ]
        }
      ]
    },
    {
      "cell_type": "markdown",
      "source": [
        "**OUTLIER DETECTION USING BOXPLOT**\n",
        "\n",
        "Outliers are considered as the extreme values that may affect the perfomance of a model.\n",
        "\n",
        "In a box plot, outliers are points that fall outside of the interquartile range (IQR). Data points that fall below the lower bound of the IQR (Q1 - 1.5* IQR) or above the upper bound of the IQR (Q3 + 1.5 * IQR) are considered outliers and are represented as circles on the box plot.\n",
        "\n"
      ],
      "metadata": {
        "id": "Qt8C5dd6hQs1"
      }
    },
    {
      "cell_type": "code",
      "source": [
        "boxprops = dict(linestyle='--', linewidth=2, color='blue')\n",
        "whiskerprops = dict(linestyle='-', linewidth=1, color='green')\n",
        "capprops = dict(linestyle='-', linewidth=2, color='red')\n",
        "medianprops = dict(linestyle='-', linewidth=2, color='orange')\n",
        "df_merged.boxplot(column=['Score','GDP per capita','Social support',\n",
        "                          'Healthy life expectancy','Freedom to make life choices',\n",
        "                          'Generosity','Perceptions of corruption'], showfliers=True, \n",
        "                   figsize=(20,5),boxprops=boxprops, whiskerprops=whiskerprops,\n",
        "                   capprops=capprops, medianprops=medianprops)"
      ],
      "metadata": {
        "colab": {
          "base_uri": "https://localhost:8080/",
          "height": 325
        },
        "id": "y2NSrnrKCINW",
        "outputId": "b58616b4-2472-4f06-c986-4ceae33e6eb6"
      },
      "execution_count": null,
      "outputs": [
        {
          "output_type": "execute_result",
          "data": {
            "text/plain": [
              "<Axes: >"
            ]
          },
          "metadata": {},
          "execution_count": 13
        },
        {
          "output_type": "display_data",
          "data": {
            "text/plain": [
              "<Figure size 2000x500 with 1 Axes>"
            ],
            "image/png": "[encoded data removed]"
          },
          "metadata": {}
        }
      ]
    },
    {
      "cell_type": "markdown",
      "source": [
        "**REMOVAL OF OUTLIERS**"
      ],
      "metadata": {
        "id": "mEPpII4-sqDK"
      }
    },
    {
      "cell_type": "markdown",
      "source": [
        "When outliers are removed, the box plot will show a symmetric distribution of the data, with the median and the quartiles clearly identified within the box. The whiskers will be short, since they will only extend to the minimum and maximum values of the dataset. Overall, a box plot without outliers suggests that the data is relatively consistent and does not contain any extreme values."
      ],
      "metadata": {
        "id": "kpzTNiwQb9yi"
      }
    },
    {
      "cell_type": "code",
      "execution_count": null,
      "metadata": {
        "id": "n4yopU8W_CNZ"
      },
      "outputs": [],
      "source": [
        "summary = df_merged.describe()\n",
        "# Identify outliers\n",
        "outliers = {}\n",
        "has_outlier = True\n",
        "while has_outlier:\n",
        "  for column in ['GDP per capita','Social support','Healthy life expectancy',\n",
        "                'Freedom to make life choices','Generosity',\n",
        "                'Perceptions of corruption']:\n",
        "      out = []\n",
        "      q1 = df_merged[column].quantile(0.25)\n",
        "      q3 = df_merged[column].quantile(0.75)\n",
        "      iqr = q3 - q1\n",
        "      upper_bound = q3 + 1.5 * iqr\n",
        "      lower_bound = q1 - 1.5 * iqr\n",
        "      \n",
        "      out.extend(df_merged[(df_merged[column] < lower_bound) | \n",
        "                          (df_merged[column] > upper_bound)][column].tolist())\n",
        "      df_merged.drop(df_merged[(df_merged[column] < lower_bound) | \n",
        "                              (df_merged[column] > upper_bound)].index,\n",
        "                      inplace=True)\n",
        "      print(column, ':', out)\n",
        "      has_outlier = len(out) != 0\n"
      ]
    },
    {
      "cell_type": "code",
      "source": [
        "\n",
        "df_merged.boxplot(column=['Score','GDP per capita','Social support','Healthy life expectancy','Freedom to make life choices','Generosity','Perceptions of corruption'], showfliers=True,  figsize=(20,5),boxprops=boxprops, whiskerprops=whiskerprops, capprops=capprops, medianprops=medianprops)\n",
        "\n"
      ],
      "metadata": {
        "id": "e9LIBO9L66pV"
      },
      "execution_count": null,
      "outputs": []
    },
    {
      "cell_type": "markdown",
      "source": [
        "# EXPLORATORY DATA ANALYSIS"
      ],
      "metadata": {
        "id": "dEQTO14UHl04"
      }
    },
    {
      "cell_type": "markdown",
      "source": [
        "EDA uses visual techniques such as graphs, plots, and other visualizations to understand data."
      ],
      "metadata": {
        "id": "QFrbUE9vb_vE"
      }
    },
    {
      "cell_type": "markdown",
      "source": [
        "**CHECKING THE DATATYPE OF EACH COLUMN**"
      ],
      "metadata": {
        "id": "FmItzi5AUV18"
      }
    },
    {
      "cell_type": "markdown",
      "source": [
        "**Data types of feature variables**"
      ],
      "metadata": {
        "id": "xyMhN-FTtUH0"
      }
    },
    {
      "cell_type": "code",
      "execution_count": null,
      "metadata": {
        "colab": {
          "base_uri": "https://localhost:8080/"
        },
        "id": "XSdpAi6Gn5e8",
        "outputId": "cd34e320-8ee1-4c30-9f86-8244c10cead0"
      },
      "outputs": [
        {
          "output_type": "stream",
          "name": "stdout",
          "text": [
            "Data types of independent variables\n",
            "GDP per capita                  float64\n",
            "Social support                  float64\n",
            "Healthy life expectancy         float64\n",
            "Freedom to make life choices    float64\n",
            "Generosity                      float64\n",
            "Perceptions of corruption       float64\n",
            "dtype: object\n"
          ]
        }
      ],
      "source": [
        "print(\"Data types of independent variables\") \n",
        "print(X.dtypes)\n"
      ]
    },
    {
      "cell_type": "markdown",
      "source": [
        "**Data type of response variable**"
      ],
      "metadata": {
        "id": "tDsMapmxtbot"
      }
    },
    {
      "cell_type": "code",
      "source": [
        "print(\"Data types of dependent variable\") \n",
        "print(y.dtypes)"
      ],
      "metadata": {
        "colab": {
          "base_uri": "https://localhost:8080/"
        },
        "id": "qaeIVO9qJz83",
        "outputId": "32b49ac8-e32f-4a01-cbeb-17639b11d534"
      },
      "execution_count": null,
      "outputs": [
        {
          "output_type": "stream",
          "name": "stdout",
          "text": [
            "Data types of dependent variable\n",
            "Score    float64\n",
            "dtype: object\n"
          ]
        }
      ]
    },
    {
      "cell_type": "markdown",
      "source": [
        "**CHECKING FOR MISSING VALUES**"
      ],
      "metadata": {
        "id": "iMDwns2dPcl2"
      }
    },
    {
      "cell_type": "markdown",
      "source": [
        "**Checking missing values in feature variables**"
      ],
      "metadata": {
        "id": "MNXgMjtPtm_c"
      }
    },
    {
      "cell_type": "code",
      "execution_count": null,
      "metadata": {
        "colab": {
          "base_uri": "https://localhost:8080/"
        },
        "id": "kON7zsijoC2H",
        "outputId": "7e584dfa-9ae5-4a3c-8046-4bb4309a1de6"
      },
      "outputs": [
        {
          "output_type": "stream",
          "name": "stdout",
          "text": [
            "GDP per capita                  0\n",
            "Social support                  0\n",
            "Healthy life expectancy         0\n",
            "Freedom to make life choices    0\n",
            "Generosity                      0\n",
            "Perceptions of corruption       0\n",
            "dtype: int64\n"
          ]
        }
      ],
      "source": [
        "print(X.isnull().sum())"
      ]
    },
    {
      "cell_type": "markdown",
      "source": [
        "**Checking missing value in Response variable**"
      ],
      "metadata": {
        "id": "3Js1oQwttwZm"
      }
    },
    {
      "cell_type": "code",
      "source": [
        "print(y.isnull().sum())"
      ],
      "metadata": {
        "id": "NXaD1MgDJv9J"
      },
      "execution_count": null,
      "outputs": []
    },
    {
      "cell_type": "markdown",
      "metadata": {
        "id": "EtmeEQ6aoT8r"
      },
      "source": [
        "**SUMMARY STATISTICS**"
      ]
    },
    {
      "cell_type": "code",
      "execution_count": null,
      "metadata": {
        "id": "moYDNUyaoXiJ"
      },
      "outputs": [],
      "source": [
        "X.describe()"
      ]
    },
    {
      "cell_type": "code",
      "source": [
        "y.describe()"
      ],
      "metadata": {
        "id": "qtrNPhGsJ99f"
      },
      "execution_count": null,
      "outputs": []
    },
    {
      "cell_type": "markdown",
      "source": [
        "**SCATTER MATRIX PLOT**\n",
        "\n",
        "In scatter plot matrix, most of the features shows a linear relationship which means that as the values of X increase, the values of another variable also tend to increase. "
      ],
      "metadata": {
        "id": "BxQCQOpEWB6U"
      }
    },
    {
      "cell_type": "code",
      "execution_count": null,
      "metadata": {
        "id": "pW4Vaq8siptj",
        "jupyter": {
          "outputs_hidden": true
        },
        "tags": []
      },
      "outputs": [],
      "source": [
        "print(colored(\"2018\", attrs=[\"bold\"]))\n",
        "a = sns.pairplot(df_2018)\n",
        "plt.show()\n",
        "print(colored(\"2019\", attrs=[\"bold\"]))\n",
        "b = sns.pairplot(df_2019)\n",
        "plt.show()\n",
        "print(colored(\"2020\", attrs=[\"bold\"]))\n",
        "b = sns.pairplot(df_2020)\n",
        "plt.show()\n",
        "print(colored(\"2021\", attrs=[\"bold\"]))\n",
        "b = sns.pairplot(df_2021)\n",
        "plt.show()"
      ]
    },
    {
      "cell_type": "markdown",
      "metadata": {
        "id": "5JJXxIo9ggXx"
      },
      "source": [
        "**CORRELATION CHECK - HEAT MAP**"
      ]
    },
    {
      "cell_type": "markdown",
      "source": [
        "The correlation matrix shows the strength of the linear relationships between happiness scores across all countries and all other features in the merged dataset. The diagonal of the matrix shows the correlation of each year's happiness scores with itself, which is always equal to 1. The off-diagonal elements of the matrix show the correlations between happiness scores across different years. Overall, the heatmap suggests a strong positive correlation between happiness scores across all years and countries, with a range of correlations between approximately 0.6 and 1.0.  "
      ],
      "metadata": {
        "id": "rwAWPvdfYZJw"
      }
    },
    {
      "cell_type": "code",
      "execution_count": null,
      "metadata": {
        "colab": {
          "base_uri": "https://localhost:8080/",
          "height": 693
        },
        "id": "W2ycUWcrgirF",
        "outputId": "5a3b3ba7-75d4-4c55-b5de-3c4eadb55adf"
      },
      "outputs": [
        {
          "output_type": "execute_result",
          "data": {
            "text/plain": [
              "Text(0.5, 1.0, '2018 to 2021')"
            ]
          },
          "metadata": {},
          "execution_count": 24
        },
        {
          "output_type": "display_data",
          "data": {
            "text/plain": [
              "<Figure size 640x480 with 0 Axes>"
            ]
          },
          "metadata": {}
        },
        {
          "output_type": "display_data",
          "data": {
            "text/plain": [
              "<Figure size 1000x500 with 2 Axes>"
            ],
            "image/png": "[encoded data removed]"
          },
          "metadata": {}
        }
      ],
      "source": [
        "plt.suptitle(\"Correlation of  Happiness score 2018 to 20021 \")\n",
        "fig, ax = plt.subplots(1,1, figsize=(10,5))\n",
        "#plt.suptitle(\"Correlation of World Happiness score 2018\")\n",
        "sns.heatmap(df_merged.corr(), annot=True).set_title('2018 to 2021')"
      ]
    },
    {
      "cell_type": "markdown",
      "source": [
        "**REGRESSION**"
      ],
      "metadata": {
        "id": "OhsR3vZWKLEE"
      }
    },
    {
      "cell_type": "markdown",
      "source": [
        "**TESTING AND TRAINING DATA**\n",
        "\n",
        "Part of the data used for learning the regression model is called the **TRAINING DATA SET.**\n",
        "\n",
        "Remaining data is used for testing the model predictions is called the **TESTING DATA SET.**"
      ],
      "metadata": {
        "id": "BDDp1QdUvROA"
      }
    },
    {
      "cell_type": "code",
      "execution_count": 44,
      "metadata": {
        "id": "MrEvd42JK8EU"
      },
      "outputs": [],
      "source": [
        "from sklearn.model_selection import train_test_split\n",
        "X_train,X_test,y_train,y_test = train_test_split(X,y,test_size=1/3,random_state=42)"
      ]
    },
    {
      "cell_type": "markdown",
      "source": [
        "**PERFORMING LINEAR REGRESSION**"
      ],
      "metadata": {
        "id": "H14cCo4lv_zy"
      }
    },
    {
      "cell_type": "code",
      "execution_count": 45,
      "metadata": {
        "id": "EFtXVTuXK8EU",
        "outputId": "f525f37b-5d3a-4967-bacd-fe852d765166",
        "colab": {
          "base_uri": "https://localhost:8080/",
          "height": 75
        }
      },
      "outputs": [
        {
          "output_type": "execute_result",
          "data": {
            "text/plain": [
              "LinearRegression()"
            ],
            "text/html": [
              "<style>#sk-container-id-1 {color: black;background-color: white;}#sk-container-id-1 pre{padding: 0;}#sk-container-id-1 div.sk-toggleable {background-color: white;}#sk-container-id-1 label.sk-toggleable__label {cursor: pointer;display: block;width: 100%;margin-bottom: 0;padding: 0.3em;box-sizing: border-box;text-align: center;}#sk-container-id-1 label.sk-toggleable__label-arrow:before {content: \"▸\";float: left;margin-right: 0.25em;color: #696969;}#sk-container-id-1 label.sk-toggleable__label-arrow:hover:before {color: black;}#sk-container-id-1 div.sk-estimator:hover label.sk-toggleable__label-arrow:before {color: black;}#sk-container-id-1 div.sk-toggleable__content {max-height: 0;max-width: 0;overflow: hidden;text-align: left;background-color: #f0f8ff;}#sk-container-id-1 div.sk-toggleable__content pre {margin: 0.2em;color: black;border-radius: 0.25em;background-color: #f0f8ff;}#sk-container-id-1 input.sk-toggleable__control:checked~div.sk-toggleable__content {max-height: 200px;max-width: 100%;overflow: auto;}#sk-container-id-1 input.sk-toggleable__control:checked~label.sk-toggleable__label-arrow:before {content: \"▾\";}#sk-container-id-1 div.sk-estimator input.sk-toggleable__control:checked~label.sk-toggleable__label {background-color: #d4ebff;}#sk-container-id-1 div.sk-label input.sk-toggleable__control:checked~label.sk-toggleable__label {background-color: #d4ebff;}#sk-container-id-1 input.sk-hidden--visually {border: 0;clip: rect(1px 1px 1px 1px);clip: rect(1px, 1px, 1px, 1px);height: 1px;margin: -1px;overflow: hidden;padding: 0;position: absolute;width: 1px;}#sk-container-id-1 div.sk-estimator {font-family: monospace;background-color: #f0f8ff;border: 1px dotted black;border-radius: 0.25em;box-sizing: border-box;margin-bottom: 0.5em;}#sk-container-id-1 div.sk-estimator:hover {background-color: #d4ebff;}#sk-container-id-1 div.sk-parallel-item::after {content: \"\";width: 100%;border-bottom: 1px solid gray;flex-grow: 1;}#sk-container-id-1 div.sk-label:hover label.sk-toggleable__label {background-color: #d4ebff;}#sk-container-id-1 div.sk-serial::before {content: \"\";position: absolute;border-left: 1px solid gray;box-sizing: border-box;top: 0;bottom: 0;left: 50%;z-index: 0;}#sk-container-id-1 div.sk-serial {display: flex;flex-direction: column;align-items: center;background-color: white;padding-right: 0.2em;padding-left: 0.2em;position: relative;}#sk-container-id-1 div.sk-item {position: relative;z-index: 1;}#sk-container-id-1 div.sk-parallel {display: flex;align-items: stretch;justify-content: center;background-color: white;position: relative;}#sk-container-id-1 div.sk-item::before, #sk-container-id-1 div.sk-parallel-item::before {content: \"\";position: absolute;border-left: 1px solid gray;box-sizing: border-box;top: 0;bottom: 0;left: 50%;z-index: -1;}#sk-container-id-1 div.sk-parallel-item {display: flex;flex-direction: column;z-index: 1;position: relative;background-color: white;}#sk-container-id-1 div.sk-parallel-item:first-child::after {align-self: flex-end;width: 50%;}#sk-container-id-1 div.sk-parallel-item:last-child::after {align-self: flex-start;width: 50%;}#sk-container-id-1 div.sk-parallel-item:only-child::after {width: 0;}#sk-container-id-1 div.sk-dashed-wrapped {border: 1px dashed gray;margin: 0 0.4em 0.5em 0.4em;box-sizing: border-box;padding-bottom: 0.4em;background-color: white;}#sk-container-id-1 div.sk-label label {font-family: monospace;font-weight: bold;display: inline-block;line-height: 1.2em;}#sk-container-id-1 div.sk-label-container {text-align: center;}#sk-container-id-1 div.sk-container {/* jupyter's `normalize.less` sets `[hidden] { display: none; }` but bootstrap.min.css set `[hidden] { display: none !important; }` so we also need the `!important` here to be able to override the default hidden behavior on the sphinx rendered scikit-learn.org. See: https://github.com/scikit-learn/scikit-learn/issues/21755 */display: inline-block !important;position: relative;}#sk-container-id-1 div.sk-text-repr-fallback {display: none;}</style><div id=\"sk-container-id-1\" class=\"sk-top-container\"><div class=\"sk-text-repr-fallback\"><pre>LinearRegression()</pre><b>In a Jupyter environment, please rerun this cell to show the HTML representation or trust the notebook. <br />On GitHub, the HTML representation is unable to render, please try loading this page with nbviewer.org.</b></div><div class=\"sk-container\" hidden><div class=\"sk-item\"><div class=\"sk-estimator sk-toggleable\"><input class=\"sk-toggleable__control sk-hidden--visually\" id=\"sk-estimator-id-1\" type=\"checkbox\" checked><label for=\"sk-estimator-id-1\" class=\"sk-toggleable__label sk-toggleable__label-arrow\">LinearRegression</label><div class=\"sk-toggleable__content\"><pre>LinearRegression()</pre></div></div></div></div></div>"
            ]
          },
          "metadata": {},
          "execution_count": 45
        }
      ],
      "source": [
        "from sklearn.linear_model import LinearRegression\n",
        "regression = LinearRegression()\n",
        "regression.fit(X_train, y_train)"
      ]
    },
    {
      "cell_type": "markdown",
      "source": [
        "**REGRESSION COEFFICIENTS**"
      ],
      "metadata": {
        "id": "kQBeIben-OQW"
      }
    },
    {
      "cell_type": "code",
      "source": [
        "print(regression.intercept_)\n",
        "print(regression.coef_)"
      ],
      "metadata": {
        "id": "t1PFrR2v-QCM"
      },
      "execution_count": null,
      "outputs": []
    },
    {
      "cell_type": "markdown",
      "source": [
        "**FINDING PREDICTED VALUES**"
      ],
      "metadata": {
        "id": "AIQxY7ZnwY9a"
      }
    },
    {
      "cell_type": "code",
      "execution_count": 46,
      "metadata": {
        "id": "gqpzx0isK8EV"
      },
      "outputs": [],
      "source": [
        "y_pred = regression.predict(X_test)"
      ]
    },
    {
      "cell_type": "markdown",
      "source": [
        "**HAPPINESS SCORE PREDICTOR**"
      ],
      "metadata": {
        "id": "uTII4nN5I2MZ"
      }
    },
    {
      "cell_type": "markdown",
      "source": [
        "**Happiness score = 2.3 + 1.1 * GDP per capita + 0.5 * Social support + 0.92 * Healthy life expectancy + 1.73 * Freedom to make life choices + 0.75 * Generosity + 0.14 * Perceptions of corruption**\n",
        "\n",
        "\n",
        "Freedom To Make Life Choices & GDP are the factors that contributes most to the happiness of individual in a country "
      ],
      "metadata": {
        "id": "uPq-Ws8a4frO"
      }
    },
    {
      "cell_type": "markdown",
      "source": [
        "**FINDING PERFOMANCE OF THE MODEL**\n",
        "\n",
        "Mean squared error (MSE) and Adj.R-squared (R2) are commonly used to evaluate the performance of a regression model.Adj.R2 measures the proportion of variance in the Y that is explained by the independent variables in the model. A higher adj.R2 value indicates that the model is better at explaining the variance in the target variable.\n",
        "\n",
        "Here Adj R- squared value is .75, which means 75 % of variance in Y is explained by the predictor variables."
      ],
      "metadata": {
        "id": "OWTcW6zqxR9b"
      }
    },
    {
      "cell_type": "code",
      "execution_count": 48,
      "metadata": {
        "id": "q81qZ6ODK8EV",
        "outputId": "efa58b49-4bcf-4e8d-ceea-5570858e4180",
        "colab": {
          "base_uri": "https://localhost:8080/"
        }
      },
      "outputs": [
        {
          "output_type": "stream",
          "name": "stdout",
          "text": [
            "Mean squared error:  0.28744940295239263\n",
            "R-squared:  0.7615178629263148\n",
            "adj R-Squared: 0.7542911314998395\n"
          ]
        }
      ],
      "source": [
        "from sklearn.metrics import mean_squared_error, r2_score\n",
        "mse = mean_squared_error(y_test, y_pred)\n",
        "r2 = r2_score(y_test, y_pred)\n",
        "n = len(y_test) # number of samples\n",
        "p = X_test.shape[1] # number of features in the test set\n",
        "adj_r2 = 1 - (1 - r2) * (n - 1) / (n - p - 1)\n",
        "#adj_r2 = regression.rsquared_adj\n",
        "print(\"Mean squared error: \", mse)\n",
        "print(\"R-squared: \", r2)\n",
        "print(\"adj R-Squared:\", adj_r2)"
      ]
    },
    {
      "cell_type": "markdown",
      "source": [
        "**SCATTER PLOT - FREEDOM Vs HAPPINESS**"
      ],
      "metadata": {
        "id": "ozg71Qqfz5n0"
      }
    },
    {
      "cell_type": "code",
      "execution_count": null,
      "metadata": {
        "id": "SuU_PpecK8EW"
      },
      "outputs": [],
      "source": [
        "plt.scatter(y_test, y_pred)\n",
        "plt.plot([y_test.min(), y_test.max()], [y_pred.min(), y_pred.max()], color='blue', lw=4)\n",
        "plt.title('Observed vs Predicted')\n",
        "plt.xlabel('Observed')\n",
        "plt.ylabel('Predicted')\n",
        "plt.show()"
      ]
    },
    {
      "cell_type": "markdown",
      "source": [
        "**CREATING A MODEL WITHOUT THE FEATURES \"GENEROSITY\", SOCIAL SUPPORT & PERCEPTIONS OF CORRUPTION**"
      ],
      "metadata": {
        "id": "oyaWfqcTjuQO"
      }
    },
    {
      "cell_type": "code",
      "source": [
        "features = ['GDP per capita','Healthy life expectancy','Freedom to make life choices']\n",
        "X_new = df_merged[features]\n",
        "y_new = df_merged[['Score']]"
      ],
      "metadata": {
        "id": "BoI5jS5IkG1_"
      },
      "execution_count": 49,
      "outputs": []
    },
    {
      "cell_type": "markdown",
      "source": [
        "**TESTING AND TRAINING DATA**"
      ],
      "metadata": {
        "id": "uaF-wwcLF36W"
      }
    },
    {
      "cell_type": "code",
      "source": [
        "from sklearn.model_selection import train_test_split\n",
        "X_new_train,X_new_test,y_new_train,y_new_test = train_test_split(X_new,y_new,test_size=1/3,random_state=42)"
      ],
      "metadata": {
        "id": "e3wRWaJ1keV5"
      },
      "execution_count": 50,
      "outputs": []
    },
    {
      "cell_type": "markdown",
      "source": [
        "**PERFORMING LINEAR REGRESSION**"
      ],
      "metadata": {
        "id": "NFP_vcgFF2R_"
      }
    },
    {
      "cell_type": "code",
      "source": [
        "from sklearn.linear_model import LinearRegression\n",
        "regression_new = LinearRegression()\n",
        "regression_new.fit(X_new_train, y_new_train)\n",
        "y_new_pred = regression_new.predict(X_new_test)"
      ],
      "metadata": {
        "id": "bSHpQUuBkfjD"
      },
      "execution_count": 51,
      "outputs": []
    },
    {
      "cell_type": "markdown",
      "source": [
        "**REGRESSION COEFFICIENTS**"
      ],
      "metadata": {
        "id": "klTXwwGoL0tP"
      }
    },
    {
      "cell_type": "code",
      "source": [
        "print(regression_new.intercept_)\n",
        "print(regression_new.coef_)"
      ],
      "metadata": {
        "colab": {
          "base_uri": "https://localhost:8080/"
        },
        "id": "ssqbur_9kocY",
        "outputId": "82e14d56-f0ee-4e4d-ff5d-1067ec8a007c"
      },
      "execution_count": 52,
      "outputs": [
        {
          "output_type": "stream",
          "name": "stdout",
          "text": [
            "[2.52755743]\n",
            "[[1.37101954 1.12248794 2.14167146]]\n"
          ]
        }
      ]
    },
    {
      "cell_type": "markdown",
      "source": [
        "**PERFOMANCE OF THE MODEL - Rsquare**\n",
        "\n",
        "Here Adj.R-Square of the model is .73 which means 73% percentage variation of Y is xplained by  feature variables.\n",
        "\n",
        "Model with all variables has better adj r sqaure compared to second."
      ],
      "metadata": {
        "id": "iQ-V2_zFL-AB"
      }
    },
    {
      "cell_type": "code",
      "source": [
        "from sklearn.metrics import mean_squared_error, r2_score\n",
        "mse = mean_squared_error(y_new_test, y_new_pred)\n",
        "r2 = r2_score(y_new_test, y_new_pred)\n",
        "n = len(y_test) # number of samples\n",
        "p = X_test.shape[1] # number of features in the test set\n",
        "adj_r2 = 1 - (1 - r2) * (n - 1) / (n - p - 1)\n",
        "#adj_r2 = regression.rsquared_adj\n",
        "print(\"Mean squared error: \", mse)\n",
        "print(\"R-squared: \", r2)\n",
        "print(\"adj R-Squared:\", adj_r2)"
      ],
      "metadata": {
        "colab": {
          "base_uri": "https://localhost:8080/"
        },
        "id": "KLvooWOkksdg",
        "outputId": "871ad1ae-128f-4447-a674-398ea514bdfa"
      },
      "execution_count": 53,
      "outputs": [
        {
          "output_type": "stream",
          "name": "stdout",
          "text": [
            "Mean squared error:  0.30530332368044666\n",
            "R-squared:  0.7467053737486085\n",
            "adj R-Squared: 0.7390297790137178\n"
          ]
        }
      ]
    },
    {
      "cell_type": "code",
      "source": [
        "plt.scatter(y_new_test, y_new_pred)\n",
        "plt.plot([y_new_test.min(), y_new_test.max()], [y_new_pred.min(), y_new_pred.max()], color='blue', lw=4)\n",
        "plt.title('Freedom vs Happiness Score')\n",
        "plt.xlabel('Observed Data')\n",
        "plt.ylabel('Predicted Data')\n",
        "plt.show()"
      ],
      "metadata": {
        "id": "8Hu9PUfzkw_Y"
      },
      "execution_count": null,
      "outputs": []
    },
    {
      "cell_type": "markdown",
      "source": [
        "**Trying KNN Regression for predicting Score**"
      ],
      "metadata": {
        "id": "NmSSYAPtzNn9"
      }
    },
    {
      "cell_type": "code",
      "source": [
        "from sklearn.neighbors import KNeighborsRegressor\n",
        "knn = KNeighborsRegressor(n_neighbors=10)\n",
        "knn.fit(X_train, y_train)"
      ],
      "metadata": {
        "id": "CAH1p69fsgMw"
      },
      "execution_count": null,
      "outputs": []
    },
    {
      "cell_type": "code",
      "source": [
        "knn_pred = knn.predict(X_test)"
      ],
      "metadata": {
        "id": "64jGC5r8s0MY"
      },
      "execution_count": null,
      "outputs": []
    },
    {
      "cell_type": "markdown",
      "source": [
        "Calcuating the r2 score"
      ],
      "metadata": {
        "id": "bCVv-NnozRGu"
      }
    },
    {
      "cell_type": "code",
      "source": [
        "r2_anon = r2_score(y_test, knn_pred)\n",
        "\n",
        "print('R2 Score with Knn):', r2_anon)"
      ],
      "metadata": {
        "colab": {
          "base_uri": "https://localhost:8080/"
        },
        "id": "GN8HOuxWs5Po",
        "outputId": "92c474ca-2833-414b-8afa-563535248159"
      },
      "execution_count": null,
      "outputs": [
        {
          "output_type": "stream",
          "name": "stdout",
          "text": [
            "R2 Score with Knn): 0.7439983817964124\n"
          ]
        }
      ]
    },
    {
      "cell_type": "markdown",
      "source": [
        "**Trying MLP Regression for predicting Score with with 3 hidden layers**"
      ],
      "metadata": {
        "id": "jZU3O6NuzTJv"
      }
    },
    {
      "cell_type": "code",
      "source": [
        "from sklearn.neural_network import MLPRegressor\n",
        "lm1 = MLPRegressor(hidden_layer_sizes=(100,100,50), solver='lbfgs', max_iter=100000, random_state=1)\n",
        "lm1.fit(X_train, y_train)"
      ],
      "metadata": {
        "id": "Ck9a3ZHBu0UI"
      },
      "execution_count": null,
      "outputs": []
    },
    {
      "cell_type": "code",
      "source": [
        "lm1_pred = lm1.predict(X_test)"
      ],
      "metadata": {
        "id": "FWJugz8zxCjx"
      },
      "execution_count": null,
      "outputs": []
    },
    {
      "cell_type": "markdown",
      "source": [
        "Calculating mse and r-squared values"
      ],
      "metadata": {
        "id": "1c1lU1L6zY8Z"
      }
    },
    {
      "cell_type": "code",
      "source": [
        "from sklearn.metrics import mean_squared_error, r2_score\n",
        "mse = mean_squared_error(y_test, lm1_pred)\n",
        "r2 = r2_score(y_test, lm1_pred)\n",
        "print(\"Mean squared error: \", mse)\n",
        "print(\"R-squared: \", r2)"
      ],
      "metadata": {
        "colab": {
          "base_uri": "https://localhost:8080/"
        },
        "id": "KZfy2XBMxYgM",
        "outputId": "e473d9f1-5196-4808-f5ec-e04bc254684d"
      },
      "execution_count": null,
      "outputs": [
        {
          "output_type": "stream",
          "name": "stdout",
          "text": [
            "Mean squared error:  1.0664225920477712\n",
            "R-squared:  0.11524346141246944\n"
          ]
        }
      ]
    },
    {
      "cell_type": "markdown",
      "source": [
        "# Conclusion"
      ],
      "metadata": {
        "id": "3eqtc7rtQfRF"
      }
    },
    {
      "cell_type": "markdown",
      "source": [
        "Based on the results of our experiments with different regression models, including Linear Regression, KNN, and MLP Regression, we have found that Linear Regression performed the best.\n",
        "\n",
        "Linear Regression showed the highest accuracy and lowest errors among the tested models. It provided the most reliable predictions, with the smallest difference between predicted and actual values. Although KNN and MLP Regression showed some promise, they did not perform as well as Linear Regression in our experiments.\n",
        "\n",
        "Therefore, we recommend using Linear Regression model for the prediction"
      ],
      "metadata": {
        "id": "ZIHv1wqqQmqB"
      }
    }
  ],
  "metadata": {
    "colab": {
      "provenance": [],
      "toc_visible": true
    },
    "kernelspec": {
      "display_name": "anaconda-2022.05-py39",
      "language": "python",
      "name": "conda-env-anaconda-2022.05-py39-py"
    },
    "language_info": {
      "codemirror_mode": {
        "name": "ipython",
        "version": 3
      },
      "file_extension": ".py",
      "mimetype": "text/x-python",
      "name": "python",
      "nbconvert_exporter": "python",
      "pygments_lexer": "ipython3",
      "version": "3.9.12"
    },
    "gpuClass": "standard",
    "accelerator": "GPU"
  },
  "nbformat": 4,
  "nbformat_minor": 0
}